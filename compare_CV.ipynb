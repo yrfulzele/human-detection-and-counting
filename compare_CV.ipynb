{
  "nbformat": 4,
  "nbformat_minor": 0,
  "metadata": {
    "colab": {
      "provenance": []
    },
    "kernelspec": {
      "name": "python3",
      "display_name": "Python 3"
    },
    "language_info": {
      "name": "python"
    },
    "accelerator": "GPU",
    "gpuClass": "standard"
  },
  "cells": [
    {
      "cell_type": "code",
      "execution_count": 15,
      "metadata": {
        "id": "Qq0PcyC6Wisi"
      },
      "outputs": [],
      "source": [
        "from skimage.feature import hog\n",
        "import joblib,glob,os,cv2\n",
        "\n",
        "from sklearn.svm import LinearSVC\n",
        "from sklearn.model_selection import train_test_split\n",
        "from sklearn import svm\n",
        "import numpy as np \n",
        "from sklearn.preprocessing import LabelEncoder\n",
        "from matplotlib import pyplot as plt"
      ]
    },
    {
      "cell_type": "code",
      "source": [
        "\n",
        "from google.colab import drive\n",
        "\n",
        "drive.mount('/content/gdrive/', force_remount=True)"
      ],
      "metadata": {
        "colab": {
          "base_uri": "https://localhost:8080/"
        },
        "id": "1kilFHFcX2qG",
        "outputId": "c1549c75-cfb7-4868-a7a1-ae5fe616c020"
      },
      "execution_count": 16,
      "outputs": [
        {
          "output_type": "stream",
          "name": "stdout",
          "text": [
            "Mounted at /content/gdrive/\n"
          ]
        }
      ]
    },
    {
      "cell_type": "code",
      "source": [
        "X = []\n",
        "Y = []"
      ],
      "metadata": {
        "id": "H91LoYsBXJwg"
      },
      "execution_count": 17,
      "outputs": []
    },
    {
      "cell_type": "code",
      "source": [
        "pos_im_path = '/content/gdrive/MyDrive/cv project/dataset/1'\n",
        "neg_im_path = '/content/gdrive/MyDrive/cv project/dataset/0'\n"
      ],
      "metadata": {
        "id": "tZbM5RNiXJus"
      },
      "execution_count": 18,
      "outputs": []
    },
    {
      "cell_type": "code",
      "source": [
        " # Load the positive features\n",
        "for filename in glob.glob(os.path.join(pos_im_path,\"*.png\")):\n",
        "     fd = cv2.imread(filename,0)\n",
        "     fd = cv2.resize(fd,(64,128))\n",
        "     fd = hog(fd,orientations=9,pixels_per_cell=(8,8),visualize=False,cells_per_block=(3,3))\n",
        "     X.append(fd)\n",
        "     Y.append(1)"
      ],
      "metadata": {
        "id": "1wDBya36XJqI"
      },
      "execution_count": 19,
      "outputs": []
    },
    {
      "cell_type": "code",
      "source": [
        " # Load the negative features\n",
        "for filename in glob.glob(os.path.join(neg_im_path,\"*.png\")):\n",
        "     fd = cv2.imread(filename,0)\n",
        "     fd = cv2.resize(fd,(64,128))\n",
        "     fd = hog(fd,orientations=9,pixels_per_cell=(8,8),visualize=False,cells_per_block=(3,3))\n",
        "     X.append(fd)\n",
        "     Y.append(0)"
      ],
      "metadata": {
        "id": "SWzKPgRmXJof"
      },
      "execution_count": 20,
      "outputs": []
    },
    {
      "cell_type": "code",
      "source": [
        "X = np.float32(X)\n",
        "Y = np.array(Y)\n",
        "\n",
        "X_train, X_test, y_train, y_test = train_test_split(X, Y, test_size=0.2)\n",
        "\n",
        "print('Train Data:',len(X_train))\n",
        "print('Train Labels (1,0)',len(y_train))"
      ],
      "metadata": {
        "colab": {
          "base_uri": "https://localhost:8080/"
        },
        "id": "-Qovb-ZwXJls",
        "outputId": "24d59b05-ce08-48a9-be9d-c321bd60ecf2"
      },
      "execution_count": 27,
      "outputs": [
        {
          "output_type": "stream",
          "name": "stdout",
          "text": [
            "Train Data: 736\n",
            "Train Labels (1,0) 736\n"
          ]
        }
      ]
    },
    {
      "cell_type": "code",
      "source": [
        "print(X_train)\n",
        "\n",
        "print(y_train)"
      ],
      "metadata": {
        "colab": {
          "base_uri": "https://localhost:8080/"
        },
        "id": "XLlqpfoKZe-G",
        "outputId": "6fcbaf85-a22b-4aa9-ef34-30f35a21ae49"
      },
      "execution_count": 33,
      "outputs": [
        {
          "output_type": "stream",
          "name": "stdout",
          "text": [
            "[[0.29396534 0.17843413 0.05072529 ... 0.07233419 0.26661283 0.23672467]\n",
            " [0.11828806 0.03899466 0.08516556 ... 0.28137538 0.04598231 0.18787381]\n",
            " [0.09203349 0.07299364 0.09830321 ... 0.22280617 0.18891925 0.21777648]\n",
            " ...\n",
            " [0.23549888 0.03642983 0.0704293  ... 0.02844971 0.06189633 0.25960264]\n",
            " [0.24034353 0.11358801 0.0467008  ... 0.00676802 0.01751661 0.03282871]\n",
            " [0.1543025  0.         0.08579985 ... 0.01497996 0.07243107 0.18701726]]\n",
            "[0 1 1 0 1 1 1 1 1 1 1 1 1 0 1 1 0 1 0 0 0 0 0 0 0 0 1 0 1 1 1 0 1 1 1 1 0\n",
            " 0 0 0 0 1 1 0 1 0 0 1 1 1 1 0 0 1 1 1 0 1 0 1 0 1 0 0 0 1 0 0 0 1 1 0 0 1\n",
            " 1 0 1 0 0 1 1 1 1 1 1 1 1 1 0 1 1 0 0 0 1 1 0 1 1 0 1 1 0 1 1 0 0 0 1 1 1\n",
            " 1 1 1 0 1 1 0 1 1 1 1 1 1 0 0 1 0 1 1 0 0 1 1 1 1 0 1 1 1 1 0 1 0 1 1 1 1\n",
            " 1 1 0 0 0 0 1 1 0 1 1 1 1 1 0 0 0 1 1 1 1 1 0 1 1 0 0 0 1 0 0 0 0 1 0 1 0\n",
            " 1 0 1 1 1 1 1 1 0 1 1 0 1 0 1 0 1 1 0 1 0 0 1 1 0 0 0 1 1 1 0 0 1 0 1 1 1\n",
            " 0 0 0 0 1 0 0 0 1 1 1 0 1 1 1 0 1 0 1 1 1 1 0 0 0 1 1 1 0 1 1 1 1 1 1 1 1\n",
            " 1 0 1 0 0 0 1 1 1 1 1 1 0 1 0 1 1 0 0 1 1 1 1 1 1 1 0 0 1 1 1 0 0 1 1 1 0\n",
            " 0 1 0 1 1 1 1 1 0 1 1 1 1 1 1 0 1 1 0 1 1 1 0 1 0 0 0 1 1 0 0 1 0 1 0 0 1\n",
            " 0 0 1 0 1 1 0 1 0 0 0 0 1 1 1 0 1 0 0 1 0 1 0 0 0 0 0 0 0 1 1 0 0 1 0 0 0\n",
            " 1 1 1 1 0 1 1 1 0 1 0 1 0 1 1 1 1 1 1 1 0 0 1 1 1 1 1 0 0 0 1 1 1 0 0 0 1\n",
            " 1 1 1 1 1 1 1 0 1 1 1 1 1 0 1 0 1 1 1 0 0 0 1 0 1 1 0 1 1 1 1 0 1 0 1 0 0\n",
            " 1 1 0 1 0 0 0 1 1 1 0 1 1 1 0 1 0 1 1 0 1 1 1 1 1 1 1 1 0 1 1 0 1 1 0 1 0\n",
            " 0 1 1 1 1 1 1 0 0 0 1 1 1 1 0 1 1 1 1 0 1 1 1 0 1 1 1 1 1 0 1 0 1 1 1 0 1\n",
            " 1 1 0 1 0 1 0 1 1 1 1 1 0 0 1 1 1 0 1 1 0 0 1 1 0 1 1 0 1 1 0 1 1 1 0 1 1\n",
            " 0 0 0 1 0 0 1 1 0 1 0 1 1 0 0 1 0 0 1 0 1 1 1 1 0 1 1 0 0 1 1 0 1 0 0 0 0\n",
            " 1 0 1 1 0 0 1 1 1 0 0 0 1 1 1 1 0 1 1 0 1 1 0 0 1 0 1 1 0 0 1 1 1 1 1 1 1\n",
            " 1 1 1 1 0 1 0 1 1 0 0 1 1 1 1 0 1 0 1 1 1 1 1 1 1 0 1 0 1 0 0 1 1 1 1 0 1\n",
            " 0 0 1 1 1 1 0 0 0 1 1 0 0 1 1 1 0 1 0 1 1 0 0 1 0 1 0 1 0 1 1 1 0 1 0 1 1\n",
            " 1 1 0 1 1 1 0 1 0 0 1 1 1 1 1 1 1 1 1 1 1 0 1 0 1 1 1 1 1 0 0 1 0]\n"
          ]
        }
      ]
    },
    {
      "cell_type": "code",
      "source": [
        "model = LinearSVC()\n",
        "model.fit(X_train,y_train)\n",
        "\n"
      ],
      "metadata": {
        "colab": {
          "base_uri": "https://localhost:8080/"
        },
        "id": "SdGrMOmjXJjt",
        "outputId": "228abb8d-7a6e-46b8-f256-2b154de7dad1"
      },
      "execution_count": 37,
      "outputs": [
        {
          "output_type": "execute_result",
          "data": {
            "text/plain": [
              "LinearSVC()"
            ]
          },
          "metadata": {},
          "execution_count": 37
        }
      ]
    },
    {
      "cell_type": "code",
      "source": [
        " # predict\n",
        "y_pred = model.predict(X_test)"
      ],
      "metadata": {
        "id": "KzyTsQw4Xu9H"
      },
      "execution_count": 38,
      "outputs": []
    },
    {
      "cell_type": "code",
      "source": [
        " # confusion matrix and accuracy\n",
        "\n",
        "from sklearn import metrics\n",
        "from sklearn.metrics import classification_report \n",
        "\n",
        "print(f\"Classification report for classifier {model}:\\n\"\n",
        "       f\"{metrics.classification_report(y_test, y_pred)}\\n\")"
      ],
      "metadata": {
        "colab": {
          "base_uri": "https://localhost:8080/"
        },
        "id": "8xHejE5nXJgI",
        "outputId": "986d84b2-206e-4267-88eb-f40eb26eb055"
      },
      "execution_count": 39,
      "outputs": [
        {
          "output_type": "stream",
          "name": "stdout",
          "text": [
            "Classification report for classifier LinearSVC():\n",
            "              precision    recall  f1-score   support\n",
            "\n",
            "           0       0.56      0.51      0.54        80\n",
            "           1       0.65      0.70      0.67       105\n",
            "\n",
            "    accuracy                           0.62       185\n",
            "   macro avg       0.61      0.60      0.60       185\n",
            "weighted avg       0.61      0.62      0.61       185\n",
            "\n",
            "\n"
          ]
        }
      ]
    },
    {
      "cell_type": "code",
      "source": [
        "\n",
        "# Import necessary modules\n",
        "from sklearn.neighbors import KNeighborsClassifier\n",
        "knn = KNeighborsClassifier(n_neighbors=7)\n",
        "  \n",
        "knn.fit(X_train, y_train)"
      ],
      "metadata": {
        "colab": {
          "base_uri": "https://localhost:8080/"
        },
        "id": "BI2tr1Jedp4G",
        "outputId": "4687c5a8-f2cc-439a-ca83-01496b1c59cf"
      },
      "execution_count": 40,
      "outputs": [
        {
          "output_type": "execute_result",
          "data": {
            "text/plain": [
              "KNeighborsClassifier(n_neighbors=7)"
            ]
          },
          "metadata": {},
          "execution_count": 40
        }
      ]
    },
    {
      "cell_type": "code",
      "source": [
        " # predict\n",
        "y_pred = knn.predict(X_test)"
      ],
      "metadata": {
        "id": "_3iOqIpAdp1l"
      },
      "execution_count": 41,
      "outputs": []
    },
    {
      "cell_type": "code",
      "source": [
        " # confusion matrix and accuracy\n",
        "\n",
        "from sklearn import metrics\n",
        "from sklearn.metrics import classification_report \n",
        "\n",
        "print(f\"Classification report for classifier {model}:\\n\"\n",
        "       f\"{metrics.classification_report(y_test, y_pred)}\\n\")"
      ],
      "metadata": {
        "colab": {
          "base_uri": "https://localhost:8080/"
        },
        "id": "NSM5Je7Cdp0F",
        "outputId": "2dd54781-7a22-42a9-9458-168bae594818"
      },
      "execution_count": 42,
      "outputs": [
        {
          "output_type": "stream",
          "name": "stdout",
          "text": [
            "Classification report for classifier LinearSVC():\n",
            "              precision    recall  f1-score   support\n",
            "\n",
            "           0       0.82      0.11      0.20        80\n",
            "           1       0.59      0.98      0.74       105\n",
            "\n",
            "    accuracy                           0.61       185\n",
            "   macro avg       0.71      0.55      0.47       185\n",
            "weighted avg       0.69      0.61      0.50       185\n",
            "\n",
            "\n"
          ]
        }
      ]
    },
    {
      "cell_type": "code",
      "source": [
        "from sklearn.tree import DecisionTreeClassifier\n",
        "clf_model = DecisionTreeClassifier(criterion=\"gini\", random_state=42,max_depth=3, min_samples_leaf=5)   \n",
        "clf_model.fit(X_train,y_train)"
      ],
      "metadata": {
        "colab": {
          "base_uri": "https://localhost:8080/"
        },
        "id": "PN3gONArdpua",
        "outputId": "bc9ac685-3597-404c-b8f8-6b96f3e25525"
      },
      "execution_count": 43,
      "outputs": [
        {
          "output_type": "execute_result",
          "data": {
            "text/plain": [
              "DecisionTreeClassifier(max_depth=3, min_samples_leaf=5, random_state=42)"
            ]
          },
          "metadata": {},
          "execution_count": 43
        }
      ]
    },
    {
      "cell_type": "code",
      "source": [
        "y_predict = clf_model.predict(X_test)\n"
      ],
      "metadata": {
        "id": "QGIW_99Pdpss"
      },
      "execution_count": 46,
      "outputs": []
    },
    {
      "cell_type": "code",
      "source": [
        " # confusion matrix and accuracy\n",
        "\n",
        "from sklearn import metrics\n",
        "from sklearn.metrics import classification_report \n",
        "\n",
        "print(f\"Classification report for classifier {clf_model}:\\n\"\n",
        "       f\"{metrics.classification_report(y_test, y_pred)}\\n\")"
      ],
      "metadata": {
        "colab": {
          "base_uri": "https://localhost:8080/"
        },
        "id": "kD_iKpfldpqb",
        "outputId": "f1af077d-1f7f-494d-e6d5-aa32b8a771fa"
      },
      "execution_count": 47,
      "outputs": [
        {
          "output_type": "stream",
          "name": "stdout",
          "text": [
            "Classification report for classifier DecisionTreeClassifier(max_depth=3, min_samples_leaf=5, random_state=42):\n",
            "              precision    recall  f1-score   support\n",
            "\n",
            "           0       0.82      0.11      0.20        80\n",
            "           1       0.59      0.98      0.74       105\n",
            "\n",
            "    accuracy                           0.61       185\n",
            "   macro avg       0.71      0.55      0.47       185\n",
            "weighted avg       0.69      0.61      0.50       185\n",
            "\n",
            "\n"
          ]
        }
      ]
    },
    {
      "cell_type": "code",
      "source": [],
      "metadata": {
        "id": "ykqMMJUgdpo0"
      },
      "execution_count": null,
      "outputs": []
    },
    {
      "cell_type": "code",
      "source": [],
      "metadata": {
        "id": "yJWkj6D3dpmQ"
      },
      "execution_count": null,
      "outputs": []
    },
    {
      "cell_type": "code",
      "source": [],
      "metadata": {
        "id": "H1KxWqkDdpkQ"
      },
      "execution_count": null,
      "outputs": []
    },
    {
      "cell_type": "code",
      "source": [
        "joblib.dump(model, 'models.dat')\n",
        "print('Model saved : {}'.format('models.dat'))\n"
      ],
      "metadata": {
        "colab": {
          "base_uri": "https://localhost:8080/"
        },
        "id": "qUps10PoXJew",
        "outputId": "6d267560-bbb5-4447-db25-59dd047c294a"
      },
      "execution_count": 32,
      "outputs": [
        {
          "output_type": "stream",
          "name": "stdout",
          "text": [
            "Model saved : models.dat\n"
          ]
        }
      ]
    },
    {
      "cell_type": "code",
      "source": [],
      "metadata": {
        "id": "4nxRA3qXXJb0"
      },
      "execution_count": null,
      "outputs": []
    },
    {
      "cell_type": "code",
      "source": [],
      "metadata": {
        "id": "-v-Y15yOXJZy"
      },
      "execution_count": null,
      "outputs": []
    },
    {
      "cell_type": "code",
      "source": [],
      "metadata": {
        "id": "_sXtZdl3XJYE"
      },
      "execution_count": null,
      "outputs": []
    },
    {
      "cell_type": "code",
      "source": [],
      "metadata": {
        "id": "zyULIzIgXJV5"
      },
      "execution_count": null,
      "outputs": []
    }
  ]
}